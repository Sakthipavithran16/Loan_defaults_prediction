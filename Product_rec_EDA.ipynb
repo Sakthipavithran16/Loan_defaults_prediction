{
 "cells": [
  {
   "cell_type": "code",
   "execution_count": 1,
   "metadata": {},
   "outputs": [],
   "source": [
    "import pandas as pd\n",
    "import numpy as np\n",
    "import matplotlib.pyplot as plt\n",
    "import seaborn as sns\n",
    "import random\n",
    "from faker import Faker"
   ]
  },
  {
   "cell_type": "code",
   "execution_count": 2,
   "metadata": {},
   "outputs": [],
   "source": [
    "fake = Faker()"
   ]
  },
  {
   "cell_type": "code",
   "execution_count": 3,
   "metadata": {},
   "outputs": [],
   "source": [
    "num_customers = 1000 \n",
    "num_products = 50   \n",
    "num_interactions = 100000"
   ]
  },
  {
   "cell_type": "code",
   "execution_count": 4,
   "metadata": {},
   "outputs": [],
   "source": [
    "interaction_types = ['purchased', 'viewed', 'clicked']"
   ]
  },
  {
   "cell_type": "code",
   "execution_count": 5,
   "metadata": {},
   "outputs": [],
   "source": [
    "data = []\n",
    "\n",
    "# Generate customer IDs from 1 to 1000 prefixed with 'CID'\n",
    "customer_ids = [f'CID{str(i).zfill(4)}' for i in range(1, num_customers + 1)]\n",
    "\n",
    "# Generate a pool of 4-digit product IDs starting with 'P'\n",
    "product_ids = [f'P{random.randint(1000, 9999)}' for _ in range(num_products)]"
   ]
  },
  {
   "cell_type": "code",
   "execution_count": 6,
   "metadata": {},
   "outputs": [],
   "source": [
    "# Generate synthetic data\n",
    "for _ in range(num_interactions):\n",
    "    customer_id = random.choice(customer_ids)\n",
    "    product_id = random.choice(product_ids)\n",
    "    interaction_type = random.choice(interaction_types)\n",
    "    interaction_date = fake.date_this_year()\n",
    "\n",
    "    data.append([customer_id, product_id, interaction_type, interaction_date])"
   ]
  },
  {
   "cell_type": "code",
   "execution_count": 7,
   "metadata": {},
   "outputs": [
    {
     "data": {
      "text/html": [
       "<div>\n",
       "<style scoped>\n",
       "    .dataframe tbody tr th:only-of-type {\n",
       "        vertical-align: middle;\n",
       "    }\n",
       "\n",
       "    .dataframe tbody tr th {\n",
       "        vertical-align: top;\n",
       "    }\n",
       "\n",
       "    .dataframe thead th {\n",
       "        text-align: right;\n",
       "    }\n",
       "</style>\n",
       "<table border=\"1\" class=\"dataframe\">\n",
       "  <thead>\n",
       "    <tr style=\"text-align: right;\">\n",
       "      <th></th>\n",
       "      <th>customer_id</th>\n",
       "      <th>product_id</th>\n",
       "      <th>interaction_type</th>\n",
       "      <th>interaction_date</th>\n",
       "    </tr>\n",
       "  </thead>\n",
       "  <tbody>\n",
       "    <tr>\n",
       "      <th>0</th>\n",
       "      <td>CID0438</td>\n",
       "      <td>P6603</td>\n",
       "      <td>purchased</td>\n",
       "      <td>2024-09-12</td>\n",
       "    </tr>\n",
       "    <tr>\n",
       "      <th>1</th>\n",
       "      <td>CID0489</td>\n",
       "      <td>P4587</td>\n",
       "      <td>clicked</td>\n",
       "      <td>2024-07-26</td>\n",
       "    </tr>\n",
       "    <tr>\n",
       "      <th>2</th>\n",
       "      <td>CID0778</td>\n",
       "      <td>P3665</td>\n",
       "      <td>viewed</td>\n",
       "      <td>2024-06-19</td>\n",
       "    </tr>\n",
       "    <tr>\n",
       "      <th>3</th>\n",
       "      <td>CID0870</td>\n",
       "      <td>P2181</td>\n",
       "      <td>purchased</td>\n",
       "      <td>2024-02-17</td>\n",
       "    </tr>\n",
       "    <tr>\n",
       "      <th>4</th>\n",
       "      <td>CID0722</td>\n",
       "      <td>P3997</td>\n",
       "      <td>purchased</td>\n",
       "      <td>2024-08-17</td>\n",
       "    </tr>\n",
       "    <tr>\n",
       "      <th>...</th>\n",
       "      <td>...</td>\n",
       "      <td>...</td>\n",
       "      <td>...</td>\n",
       "      <td>...</td>\n",
       "    </tr>\n",
       "    <tr>\n",
       "      <th>99995</th>\n",
       "      <td>CID0207</td>\n",
       "      <td>P5728</td>\n",
       "      <td>purchased</td>\n",
       "      <td>2024-02-13</td>\n",
       "    </tr>\n",
       "    <tr>\n",
       "      <th>99996</th>\n",
       "      <td>CID0752</td>\n",
       "      <td>P5640</td>\n",
       "      <td>purchased</td>\n",
       "      <td>2024-05-03</td>\n",
       "    </tr>\n",
       "    <tr>\n",
       "      <th>99997</th>\n",
       "      <td>CID0801</td>\n",
       "      <td>P7893</td>\n",
       "      <td>clicked</td>\n",
       "      <td>2024-02-11</td>\n",
       "    </tr>\n",
       "    <tr>\n",
       "      <th>99998</th>\n",
       "      <td>CID0870</td>\n",
       "      <td>P9488</td>\n",
       "      <td>clicked</td>\n",
       "      <td>2024-04-03</td>\n",
       "    </tr>\n",
       "    <tr>\n",
       "      <th>99999</th>\n",
       "      <td>CID0167</td>\n",
       "      <td>P5069</td>\n",
       "      <td>purchased</td>\n",
       "      <td>2024-05-09</td>\n",
       "    </tr>\n",
       "  </tbody>\n",
       "</table>\n",
       "<p>100000 rows × 4 columns</p>\n",
       "</div>"
      ],
      "text/plain": [
       "      customer_id product_id interaction_type interaction_date\n",
       "0         CID0438      P6603        purchased       2024-09-12\n",
       "1         CID0489      P4587          clicked       2024-07-26\n",
       "2         CID0778      P3665           viewed       2024-06-19\n",
       "3         CID0870      P2181        purchased       2024-02-17\n",
       "4         CID0722      P3997        purchased       2024-08-17\n",
       "...           ...        ...              ...              ...\n",
       "99995     CID0207      P5728        purchased       2024-02-13\n",
       "99996     CID0752      P5640        purchased       2024-05-03\n",
       "99997     CID0801      P7893          clicked       2024-02-11\n",
       "99998     CID0870      P9488          clicked       2024-04-03\n",
       "99999     CID0167      P5069        purchased       2024-05-09\n",
       "\n",
       "[100000 rows x 4 columns]"
      ]
     },
     "execution_count": 7,
     "metadata": {},
     "output_type": "execute_result"
    }
   ],
   "source": [
    "product_df = pd.DataFrame(data, columns=['customer_id', 'product_id', 'interaction_type', 'interaction_date'])\n",
    "product_df"
   ]
  },
  {
   "cell_type": "code",
   "execution_count": 8,
   "metadata": {},
   "outputs": [
    {
     "name": "stdout",
     "output_type": "stream",
     "text": [
      "<class 'pandas.core.frame.DataFrame'>\n",
      "RangeIndex: 100000 entries, 0 to 99999\n",
      "Data columns (total 4 columns):\n",
      " #   Column            Non-Null Count   Dtype \n",
      "---  ------            --------------   ----- \n",
      " 0   customer_id       100000 non-null  object\n",
      " 1   product_id        100000 non-null  object\n",
      " 2   interaction_type  100000 non-null  object\n",
      " 3   interaction_date  100000 non-null  object\n",
      "dtypes: object(4)\n",
      "memory usage: 3.1+ MB\n"
     ]
    }
   ],
   "source": [
    "product_df.info()"
   ]
  },
  {
   "cell_type": "code",
   "execution_count": 9,
   "metadata": {},
   "outputs": [
    {
     "data": {
      "text/plain": [
       "customer_id         0\n",
       "product_id          0\n",
       "interaction_type    0\n",
       "interaction_date    0\n",
       "dtype: int64"
      ]
     },
     "execution_count": 9,
     "metadata": {},
     "output_type": "execute_result"
    }
   ],
   "source": [
    "product_df.isnull().sum()"
   ]
  },
  {
   "cell_type": "code",
   "execution_count": 10,
   "metadata": {},
   "outputs": [
    {
     "data": {
      "text/plain": [
       "<Axes: xlabel='interaction_type', ylabel='count'>"
      ]
     },
     "execution_count": 10,
     "metadata": {},
     "output_type": "execute_result"
    },
    {
     "data": {
      "image/png": "[encoded data removed]",
      "text/plain": [
       "<Figure size 640x480 with 1 Axes>"
      ]
     },
     "metadata": {},
     "output_type": "display_data"
    }
   ],
   "source": [
    "sns.countplot(data = product_df, x = product_df['interaction_type'])"
   ]
  },
  {
   "cell_type": "code",
   "execution_count": 11,
   "metadata": {},
   "outputs": [
    {
     "data": {
      "text/plain": [
       "product_id\n",
       "P5002    2115\n",
       "P8741    2095\n",
       "P8218    2082\n",
       "P4531    2074\n",
       "P1615    2071\n",
       "P1284    2062\n",
       "P9633    2060\n",
       "P9854    2058\n",
       "P6603    2047\n",
       "P5069    2041\n",
       "P2181    2035\n",
       "P3665    2032\n",
       "P1484    2030\n",
       "P9068    2027\n",
       "P6344    2026\n",
       "P6422    2021\n",
       "P9089    2021\n",
       "P6493    2016\n",
       "P5640    2015\n",
       "P6608    2012\n",
       "P1539    2009\n",
       "P8191    2006\n",
       "P5085    2005\n",
       "P7308    2004\n",
       "P8104    2002\n",
       "P3696    2002\n",
       "P3106    1999\n",
       "P7629    1997\n",
       "P7893    1996\n",
       "P5728    1995\n",
       "P9488    1995\n",
       "P3576    1988\n",
       "P5741    1987\n",
       "P5672    1971\n",
       "P7189    1971\n",
       "P8282    1969\n",
       "P1689    1966\n",
       "P7513    1966\n",
       "P6839    1964\n",
       "P4587    1957\n",
       "P6184    1957\n",
       "P1112    1955\n",
       "P9202    1954\n",
       "P3997    1950\n",
       "P4949    1946\n",
       "P9813    1934\n",
       "P1512    1923\n",
       "P5994    1904\n",
       "P9842    1898\n",
       "P5669    1890\n",
       "Name: count, dtype: int64"
      ]
     },
     "execution_count": 11,
     "metadata": {},
     "output_type": "execute_result"
    }
   ],
   "source": [
    "product_df['product_id'].value_counts()"
   ]
  },
  {
   "cell_type": "code",
   "execution_count": 12,
   "metadata": {},
   "outputs": [],
   "source": [
    "final_df = product_df.copy()"
   ]
  },
  {
   "cell_type": "code",
   "execution_count": 13,
   "metadata": {},
   "outputs": [],
   "source": [
    "final_df.to_csv('product_data.csv')"
   ]
  },
  {
   "cell_type": "code",
   "execution_count": null,
   "metadata": {},
   "outputs": [],
   "source": []
  },
  {
   "cell_type": "code",
   "execution_count": null,
   "metadata": {},
   "outputs": [],
   "source": []
  }
 ],
 "metadata": {
  "kernelspec": {
   "display_name": "Python 3",
   "language": "python",
   "name": "python3"
  },
  "language_info": {
   "codemirror_mode": {
    "name": "ipython",
    "version": 3
   },
   "file_extension": ".py",
   "mimetype": "text/x-python",
   "name": "python",
   "nbconvert_exporter": "python",
   "pygments_lexer": "ipython3",
   "version": "3.12.4"
  }
 },
 "nbformat": 4,
 "nbformat_minor": 2
}
